{
 "cells": [
  {
   "cell_type": "code",
   "execution_count": 1,
   "metadata": {},
   "outputs": [
    {
     "name": "stdout",
     "output_type": "stream",
     "text": [
      "WARNING:tensorflow:From c:\\Users\\hkhat\\anaconda3\\Lib\\site-packages\\keras\\src\\losses.py:2976: The name tf.losses.sparse_softmax_cross_entropy is deprecated. Please use tf.compat.v1.losses.sparse_softmax_cross_entropy instead.\n",
      "\n"
     ]
    },
    {
     "ename": "NameError",
     "evalue": "name 'labels' is not defined",
     "output_type": "error",
     "traceback": [
      "\u001b[1;31m---------------------------------------------------------------------------\u001b[0m",
      "\u001b[1;31mNameError\u001b[0m                                 Traceback (most recent call last)",
      "Cell \u001b[1;32mIn[1], line 6\u001b[0m\n\u001b[0;32m      3\u001b[0m \u001b[38;5;28;01mimport\u001b[39;00m \u001b[38;5;21;01mtensorflow\u001b[39;00m \u001b[38;5;28;01mas\u001b[39;00m \u001b[38;5;21;01mtf\u001b[39;00m\n\u001b[0;32m      5\u001b[0m \u001b[38;5;66;03m# Replace tf.losses.sparse_softmax_cross_entropy with tf.compat.v1.losses.sparse_softmax_cross_entropy\u001b[39;00m\n\u001b[1;32m----> 6\u001b[0m loss \u001b[38;5;241m=\u001b[39m tf\u001b[38;5;241m.\u001b[39mcompat\u001b[38;5;241m.\u001b[39mv1\u001b[38;5;241m.\u001b[39mlosses\u001b[38;5;241m.\u001b[39msparse_softmax_cross_entropy(labels, logits)\n",
      "\u001b[1;31mNameError\u001b[0m: name 'labels' is not defined"
     ]
    }
   ],
   "source": [
    "import numpy as np\n",
    "from tensorflow.keras.datasets import cifar10, cifar100"
   ]
  },
  {
   "cell_type": "code",
   "execution_count": 2,
   "metadata": {},
   "outputs": [],
   "source": [
    "def preprocess_images(images):\n",
    "    #Convert images to grayscale\n",
    "    gray_images  = [cv2.cvtColor(img, cv2.COLOR_BGR2GRAY) for img in images]\n",
    "    #Equalize the histogram of grayscale images for better contrast\n",
    "    equalized_images = [cv2.equalizeHist(img) for img in gray_images]\n",
    "    #Reshape the images to the desired shape (e.g., (32, 32, 1))\n",
    "    images_array = np.array(equalized_images).reshape((-1, 32, 32, 1))\n",
    "    #Normalize pixel values to the range [0, 1]\n",
    "    images_normalized = images_array.astype('float32') / 255.0\n",
    "    #Apply Gaussian blur to the normalized images\n",
    "    blurred_images = np.array([cv2.GaussianBlur(img, (5, 5), 0) for img in images_normalized])\n",
    "\n",
    "    return blurred_images"
   ]
  },
  {
   "cell_type": "code",
   "execution_count": 1,
   "metadata": {},
   "outputs": [],
   "source": [
    "def display_histogram(train_labels, test_labels, title=\"Dataset Label Distribution\"):\n",
    "    # Create a figure with two subplots (side by side).\n",
    "    plt.figure(figsize=(10, 5))\n",
    "\n",
    "    # Plotting histogram for train labels in the first subplot.\n",
    "    plt.subplot(1, 2, 1)\n",
    "    plt.hist(train_labels, bins=len(set(train_labels)), color='blue', alpha=0.7)\n",
    "    plt.title('Train Labels')   # Set the title for the train labels histogram.\n",
    "    plt.xlabel('Label')         # Set the x-axis label.\n",
    "    plt.ylabel('Frequency')     # Set the y-axis label.\n",
    "\n",
    "    # Plotting histogram for test labels in the second subplot.\n",
    "    plt.subplot(1, 2, 2)\n",
    "    plt.hist(test_labels, bins=len(set(test_labels)), color='green', alpha=0.7)\n",
    "    plt.title('Test Labels')    # Set the title for the test labels histogram.\n",
    "    plt.xlabel('Label')         # Set the x-axis label.\n",
    "    plt.ylabel('Frequency')     # Set the y-axis label.\n",
    "\n",
    "    # Set the main title for the entire figure.\n",
    "    plt.suptitle(title)\n",
    "\n",
    "    # Adjust the layout to prevent subplot overlap and display the figure.\n",
    "    plt.tight_layout()\n",
    "    plt.show()"
   ]
  }
 ],
 "metadata": {
  "kernelspec": {
   "display_name": "base",
   "language": "python",
   "name": "python3"
  },
  "language_info": {
   "codemirror_mode": {
    "name": "ipython",
    "version": 3
   },
   "file_extension": ".py",
   "mimetype": "text/x-python",
   "name": "python",
   "nbconvert_exporter": "python",
   "pygments_lexer": "ipython3",
   "version": "3.11.5"
  }
 },
 "nbformat": 4,
 "nbformat_minor": 2
}
