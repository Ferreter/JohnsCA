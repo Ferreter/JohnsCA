{
 "cells": [
  {
   "cell_type": "code",
   "execution_count": 2,
   "metadata": {},
   "outputs": [],
   "source": [
    "import numpy as np\n",
    "from tensorflow.keras.datasets import cifar10, cifar100"
   ]
  },
  {
   "cell_type": "code",
   "execution_count": 3,
   "metadata": {},
   "outputs": [],
   "source": [
    "def preprocess_images(images):\n",
    "    #Convert images to grayscale\n",
    "    gray_images  = [cv2.cvtColor(img, cv2.COLOR_BGR2GRAY) for img in images]\n",
    "    #Equalize the histogram of grayscale images for better contrast\n",
    "    equalized_images = [cv2.equalizeHist(img) for img in gray_images]\n",
    "    #Reshape the images to the desired shape (e.g., (32, 32, 1))\n",
    "    images_array = np.array(equalized_images).reshape((-1, 32, 32, 1))\n",
    "    #Normalize pixel values to the range [0, 1]\n",
    "    images_normalized = images_array.astype('float32') / 255.0\n",
    "    #Apply Gaussian blur to the normalized images\n",
    "    blurred_images = np.array([cv2.GaussianBlur(img, (5, 5), 0) for img in images_normalized])\n",
    "\n",
    "    return blurred_images"
   ]
  },
  {
   "cell_type": "code",
   "execution_count": 4,
   "metadata": {},
   "outputs": [],
   "source": [
    "def display_histogram(train_labels, test_labels, title=\"Dataset Label Distribution\"):\n",
    "    # Create a figure with two subplots (side by side).\n",
    "    plt.figure(figsize=(10, 5))\n",
    "\n",
    "    # Plotting histogram for train labels in the first subplot.\n",
    "    plt.subplot(1, 2, 1)\n",
    "    plt.hist(train_labels, bins=len(set(train_labels)), color='blue', alpha=0.7)\n",
    "    plt.title('Train Labels')   # Set the title for the train labels histogram.\n",
    "    plt.xlabel('Label')         # Set the x-axis label.\n",
    "    plt.ylabel('Frequency')     # Set the y-axis label.\n",
    "\n",
    "    # Plotting histogram for test labels in the second subplot.\n",
    "    plt.subplot(1, 2, 2)\n",
    "    plt.hist(test_labels, bins=len(set(test_labels)), color='green', alpha=0.7)\n",
    "    plt.title('Test Labels')    # Set the title for the test labels histogram.\n",
    "    plt.xlabel('Label')         # Set the x-axis label.\n",
    "    plt.ylabel('Frequency')     # Set the y-axis label.\n",
    "\n",
    "    # Set the main title for the entire figure.\n",
    "    plt.suptitle(title)\n",
    "\n",
    "    # Adjust the layout to prevent subplot overlap and display the figure.\n",
    "    plt.tight_layout()\n",
    "    plt.show()"
   ]
  },
  {
   "cell_type": "code",
   "execution_count": 7,
   "metadata": {},
   "outputs": [],
   "source": [
    "def filter_and_combine_datasets(cifar10_train_images, cifar10_train_labels, cifar100_train_images, cifar100_train_labels):\n",
    "    # Define unique mappings for each dataset to avoid overlap\n",
    "    cifar10_classes = {'C10_automobile': 1, 'C10_bird': 2, 'C10_cat': 3, 'C10_deer': 4, 'C10_dog': 5, 'C10_horse': 7, 'C10_truck': 9}\n",
    "    cifar100_classes = {'C100_cattle': 11, 'C100_fox': 34, 'C100_baby': 2, 'C100_boy': 11, 'C100_girl': 35, 'C100_man': 44, 'C100_woman': 98,\n",
    "                        'C100_rabbit': 65, 'C100_squirrel': 78, 'C100_trees': 84, 'C100_bicycle': 8, 'C100_bus': 13,\n",
    "                        'C100_motorcycle': 48, 'C100_pickup truck': 58, 'C100_train': 95, 'C100_lawn-mower': 48, 'C100_tractor': 86}\n",
    "\n",
    "    # Filter datasets by redefined class mappings\n",
    "    def filter_dataset(images, labels, class_mapping):\n",
    "        filtered_images = []\n",
    "        filtered_labels = []\n",
    "        for img, lbl in zip(images, labels):\n",
    "            class_id = lbl[0]\n",
    "            for key, value in class_mapping.items():\n",
    "                if class_id == value:\n",
    "                    filtered_images.append(img)\n",
    "                    filtered_labels.append(key)\n",
    "        return filtered_images, filtered_labels\n",
    "\n",
    "    cifar10_filtered_images, cifar10_filtered_labels = filter_dataset(cifar10_train_images, cifar10_train_labels, cifar10_classes)\n",
    "    cifar100_filtered_images, cifar100_filtered_labels = filter_dataset(cifar100_train_images, cifar100_train_labels, cifar100_classes)\n",
    "\n",
    "    # Combine filtered datasets\n",
    "    combined_images = cifar10_filtered_images + cifar100_filtered_images\n",
    "    combined_labels = cifar10_filtered_labels + cifar100_filtered_labels\n",
    "\n",
    "    return combined_images, combined_labels\n"
   ]
  },
  {
   "cell_type": "code",
   "execution_count": null,
   "metadata": {},
   "outputs": [],
   "source": []
  }
 ],
 "metadata": {
  "kernelspec": {
   "display_name": "base",
   "language": "python",
   "name": "python3"
  },
  "language_info": {
   "codemirror_mode": {
    "name": "ipython",
    "version": 3
   },
   "file_extension": ".py",
   "mimetype": "text/x-python",
   "name": "python",
   "nbconvert_exporter": "python",
   "pygments_lexer": "ipython3",
   "version": "3.11.5"
  }
 },
 "nbformat": 4,
 "nbformat_minor": 2
}
