{
 "cells": [
  {
   "cell_type": "code",
   "execution_count": 17,
   "metadata": {},
   "outputs": [],
   "source": [
    "import numpy as np\n",
    "from tensorflow.keras.datasets import cifar10, cifar100\n",
    "import matplotlib.pyplot as plt\n",
    "from itertools import chain"
   ]
  },
  {
   "cell_type": "code",
   "execution_count": 18,
   "metadata": {},
   "outputs": [],
   "source": [
    "def load_cifar_datasets():\n",
    "    (cifar10_train_images, cifar10_train_labels), (cifar10_test_images, cifar10_test_labels) = cifar10.load_data()\n",
    "    (cifar100_train_images, cifar100_train_labels), (cifar100_test_images, cifar100_test_labels) = cifar100.load_data()\n",
    "    return cifar10_train_images, cifar10_train_labels, cifar100_train_images, cifar100_train_labels, cifar10_test_images, cifar10_test_labels, cifar100_test_images, cifar100_test_labels\n",
    "\n",
    "def filter_and_combine_datasets(cifar10_train_images, cifar10_train_labels, cifar100_train_images, cifar100_train_labels):\n",
    "    cifar10_classes = {'automobile': 1, 'bird': 2, 'cat': 3, 'deer': 4, 'dog': 5, 'horse': 7, 'truck': 9}\n",
    "    cifar100_classes = {'cattle': 11, 'fox': 34, 'baby': 2, 'boy': 11, 'girl': 35, 'man': 44, 'woman': 98,\n",
    "                        'rabbit': 65, 'squirrel': 78, 'trees': 84, 'bicycle': 8, 'bus': 13,\n",
    "                        'motorcycle': 48, 'pickup truck': 58, 'train': 95, 'lawn-mower': 48, 'tractor': 86}\n",
    "\n",
    "    def filter_dataset(images, labels, class_mapping):\n",
    "        filtered_images = []\n",
    "        filtered_labels = []\n",
    "        for img, lbl in zip(images, labels):\n",
    "            class_id = lbl[0]\n",
    "            if class_id in class_mapping.values():\n",
    "                class_name = list(class_mapping.keys())[list(class_mapping.values()).index(class_id)]\n",
    "                filtered_images.append(img)\n",
    "                filtered_labels.append(class_name)\n",
    "        return filtered_images, filtered_labels\n",
    "\n",
    "    cifar10_filtered_images, cifar10_filtered_labels = filter_dataset(cifar10_train_images, cifar10_train_labels, cifar10_classes)\n",
    "    cifar100_filtered_images, cifar100_filtered_labels = filter_dataset(cifar100_train_images, cifar100_train_labels, cifar100_classes)\n",
    "\n",
    "    combined_images = cifar10_filtered_images + cifar100_filtered_images\n",
    "    combined_labels = cifar10_filtered_labels + cifar100_filtered_labels\n",
    "\n",
    "    return combined_images, combined_labels\n",
    "\n",
    "cifar10_train_images, cifar10_train_labels, cifar100_train_images, cifar100_train_labels, cifar10_test_images, cifar10_test_labels, cifar100_test_images, cifar100_test_labels = load_cifar_datasets()\n",
    "combined_labels = filter_and_combine_datasets(cifar10_train_images, cifar10_train_labels, cifar100_train_images, cifar100_train_labels)\n"
   ]
  },
  {
   "cell_type": "code",
   "execution_count": 20,
   "metadata": {},
   "outputs": [
    {
     "ename": "NameError",
     "evalue": "name 'Counter' is not defined",
     "output_type": "error",
     "traceback": [
      "\u001b[1;31m---------------------------------------------------------------------------\u001b[0m",
      "\u001b[1;31mNameError\u001b[0m                                 Traceback (most recent call last)",
      "Cell \u001b[1;32mIn[20], line 13\u001b[0m\n\u001b[0;32m     10\u001b[0m     plt\u001b[38;5;241m.\u001b[39mxticks(rotation\u001b[38;5;241m=\u001b[39m\u001b[38;5;241m45\u001b[39m, ha\u001b[38;5;241m=\u001b[39m\u001b[38;5;124m'\u001b[39m\u001b[38;5;124mright\u001b[39m\u001b[38;5;124m'\u001b[39m)\n\u001b[0;32m     11\u001b[0m     plt\u001b[38;5;241m.\u001b[39mshow()\n\u001b[1;32m---> 13\u001b[0m plot_class_distribution(combined_labels)\n",
      "Cell \u001b[1;32mIn[20], line 3\u001b[0m, in \u001b[0;36mplot_class_distribution\u001b[1;34m(labels)\u001b[0m\n\u001b[0;32m      1\u001b[0m \u001b[38;5;28;01mdef\u001b[39;00m \u001b[38;5;21mplot_class_distribution\u001b[39m(labels):\n\u001b[0;32m      2\u001b[0m     flat_labels \u001b[38;5;241m=\u001b[39m [item \u001b[38;5;28;01mfor\u001b[39;00m sublist \u001b[38;5;129;01min\u001b[39;00m labels \u001b[38;5;28;01mfor\u001b[39;00m item \u001b[38;5;129;01min\u001b[39;00m sublist]\n\u001b[1;32m----> 3\u001b[0m     class_counts \u001b[38;5;241m=\u001b[39m Counter(flat_labels)\n\u001b[0;32m      4\u001b[0m     unique_classes, counts \u001b[38;5;241m=\u001b[39m \u001b[38;5;28mzip\u001b[39m(\u001b[38;5;241m*\u001b[39mclass_counts\u001b[38;5;241m.\u001b[39mitems())\n\u001b[0;32m      5\u001b[0m     plt\u001b[38;5;241m.\u001b[39mfigure(figsize\u001b[38;5;241m=\u001b[39m(\u001b[38;5;241m10\u001b[39m, \u001b[38;5;241m5\u001b[39m))\n",
      "\u001b[1;31mNameError\u001b[0m: name 'Counter' is not defined"
     ]
    }
   ],
   "source": [
    "\n",
    "def plot_class_distribution(labels):\n",
    "    flat_labels = [item for sublist in labels for item in sublist]\n",
    "    class_counts = Counter(flat_labels)\n",
    "    unique_classes, counts = zip(*class_counts.items())\n",
    "    plt.figure(figsize=(10, 5))\n",
    "    plt.bar(unique_classes, counts, color='skyblue')\n",
    "    plt.xlabel('Class')\n",
    "    plt.ylabel('Number of Images')\n",
    "    plt.title('Class Distribution')\n",
    "    plt.xticks(rotation=45, ha='right')\n",
    "    plt.show()\n",
    "\n",
    "plot_class_distribution(combined_labels)"
   ]
  },
  {
   "cell_type": "code",
   "execution_count": null,
   "metadata": {},
   "outputs": [],
   "source": []
  }
 ],
 "metadata": {
  "kernelspec": {
   "display_name": "base",
   "language": "python",
   "name": "python3"
  },
  "language_info": {
   "codemirror_mode": {
    "name": "ipython",
    "version": 3
   },
   "file_extension": ".py",
   "mimetype": "text/x-python",
   "name": "python",
   "nbconvert_exporter": "python",
   "pygments_lexer": "ipython3",
   "version": "3.11.5"
  }
 },
 "nbformat": 4,
 "nbformat_minor": 2
}
